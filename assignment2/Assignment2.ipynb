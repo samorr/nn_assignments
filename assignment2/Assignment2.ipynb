{
 "cells": [
  {
   "cell_type": "markdown",
   "metadata": {
    "colab_type": "text",
    "id": "view-in-github"
   },
   "source": [
    "[View in Colaboratory](https://colab.research.google.com/github/janchorowski/nn_assignments/blob/nn18/assignment2/Assignment2.ipynb)"
   ]
  },
  {
   "cell_type": "markdown",
   "metadata": {
    "colab_type": "text",
    "id": "C99k_YdbQ5Gy"
   },
   "source": [
    "# Assignment 2\n",
    "\n",
    "**Submission deadline: last lab session before or on Friday 26.10.17**\n",
    "\n",
    "**Points: 16 + 3 bonus points**\n",
    "\n",
    "\n",
    "## Downloading this notebook\n",
    "\n",
    "This assignment is an Colab/Jupyter notebook. Download it by cloning https://github.com/janchorowski/nn_assignments or open from Colab. Follow the instructions in its README for instructions. Whenever possible, add your solutions to the notebook.\n",
    "\n",
    "Please email us about any problems with it - we will try to correct them quickly. Also, please do not hesitate to use GitHub’s pull requests to send us corrections!"
   ]
  },
  {
   "cell_type": "markdown",
   "metadata": {
    "colab_type": "text",
    "id": "ww7CDGWZQ5G1"
   },
   "source": [
    "# Problem 1 [2p] Bayes' Theorem\n",
    "\n",
    "Bayes' theorem allows to reason about conditional probabilities of causes and their effects:\n",
    "\n",
    "\\begin{equation}\n",
    "p(A,B)=p(A|B)p(B)=p(B|A)p(A)\n",
    "\\end{equation}\n",
    "\n",
    "\\begin{equation}\n",
    "p(A|B) = \\frac{p(B|A)p(A)}{p(B)}\n",
    "\\end{equation}\n",
    "\n",
    "Bayes' theorem allows us to reason about probabilities of causes, when\n",
    "we observe their results.  Instead of directly answering the hard\n",
    "question $p(\\text{cause}|\\text{result})$ we can instead separately\n",
    "work out the marginal probabilities of causes $p(\\text{cause})$ and\n",
    "carefully study their effects $p(\\text{effect}|\\text{cause})$.\n",
    "\n",
    "Solve the following using Bayes' theorem.\n",
    "\n",
    "1. **[1p]** There are two boxes on the table: box \\#1 holds two\n",
    "  black balls and eight red ones, box \\#2 holds 5 black ones and\n",
    "  5 red ones. We pick a box at random (with equal probabilities),\n",
    "  and then a ball from that box.\n",
    "  1. What is the probability, that the\n",
    "  ball came from box \\#1 if we happened to pick a red ball?\n",
    "  \n",
    "1. **[1p]** The government has started a preventive program of\n",
    "  mandatory tests for the Ebola virus. Mass testing method is\n",
    "  imprecise, yielding 1% of false positives (healthy, but the test\n",
    "  indicates the virus) and 1% of false negatives (\n",
    "  having the virus but healthy according to test results).\n",
    "  As Ebola is rather infrequent, lets assume that it occurs in\n",
    "  one in a million people in Europe.\n",
    "  1. What is the probability,\n",
    "  that a random European, who has been tested positive for Ebola\n",
    "  virus, is indeed a carrier?\n",
    "  2. Suppose we have an additional information, that the person has just\n",
    "  arrived from a country where one in a thousand people is a carrier.\n",
    "  How much will be the increase in probability?\n",
    "  3. How accurate should be the test, for a 80% probability of true\n",
    "  positive in a European?"
   ]
  },
  {
   "cell_type": "markdown",
   "metadata": {},
   "source": [
    "1. Let A be an event that the ball came from box #1 and let B be an event that we picked a red ball.\n",
    "\n",
    "We want to compute $P(A | B)$\n",
    "$$\n",
    "P(A|B) = \\frac{P(B|A)P(A)}{P(B)}\n",
    "$$\n",
    "when\n",
    "\n",
    "$ P(A) = 0.5 $ \n",
    "\n",
    "$ P(B) = \\frac{5 + 8}{20} = 0.65 $\n",
    "\n",
    "$ P(B|A) = 0.8 $\n",
    "\n",
    "$$\n",
    "P(A|B) = \\frac{P(B|A)P(A)}{P(B)} = \\frac{0.8 \\cdot 0.5}{0.65} \\approx 0.615\n",
    "$$"
   ]
  },
  {
   "cell_type": "markdown",
   "metadata": {},
   "source": [
    "2. A. Let us set a random European E. Let A be an event that E is a carrier, B - an event that E has been tested positive.\n",
    "We want to compute $P(A|B)$\n",
    "\n",
    "Like before $P(A|B) = \\frac{P(B|A)P(A)}{P(B)}$\n",
    "\n",
    "when\n",
    "\n",
    "$ P(A) = 0.000001 $ \n",
    "\n",
    "$ P(B|A) = 0.99 $"
   ]
  },
  {
   "cell_type": "code",
   "execution_count": 2,
   "metadata": {},
   "outputs": [
    {
     "data": {
      "text/plain": [
       "0.01000098"
      ]
     },
     "execution_count": 2,
     "metadata": {},
     "output_type": "execute_result"
    }
   ],
   "source": [
    "P_A = 0.000001\n",
    "P_B_given_A = 0.99\n",
    "P_B_given_Ac = 0.01\n",
    "P_B = P_B_given_A * P_A + P_B_given_Ac * (1 - P_A)\n",
    "P_B"
   ]
  },
  {
   "cell_type": "markdown",
   "metadata": {},
   "source": [
    "$ P(B) = P(B|A) P(A) + P(B|A^c) P(A^c) = 0.01000098$"
   ]
  },
  {
   "cell_type": "code",
   "execution_count": 3,
   "metadata": {},
   "outputs": [
    {
     "data": {
      "text/plain": [
       "9.899029895070284e-05"
      ]
     },
     "execution_count": 3,
     "metadata": {},
     "output_type": "execute_result"
    }
   ],
   "source": [
    "P_A_given_B = P_A * P_B_given_A / P_B\n",
    "P_A_given_B"
   ]
  },
  {
   "cell_type": "markdown",
   "metadata": {},
   "source": [
    "$$\n",
    "P(A|B) = \\frac{P(B|A)P(A)}{P(B)} = \\frac{0.99 \\cdot 0.000001}{0.01000089} = 0.00009899\n",
    "$$"
   ]
  },
  {
   "cell_type": "markdown",
   "metadata": {},
   "source": [
    "B. Now assume that $P(A) = 0.001$."
   ]
  },
  {
   "cell_type": "code",
   "execution_count": 4,
   "metadata": {},
   "outputs": [
    {
     "data": {
      "text/plain": [
       "0.01098"
      ]
     },
     "execution_count": 4,
     "metadata": {},
     "output_type": "execute_result"
    }
   ],
   "source": [
    "P_A = 0.001\n",
    "P_B_given_A = 0.99\n",
    "P_B_given_Ac = 0.01\n",
    "P_B = P_B_given_A * P_A + P_B_given_Ac * (1 - P_A)\n",
    "P_B"
   ]
  },
  {
   "cell_type": "markdown",
   "metadata": {},
   "source": [
    "Then also $P(B) = 0.01098 $"
   ]
  },
  {
   "cell_type": "code",
   "execution_count": 6,
   "metadata": {},
   "outputs": [
    {
     "data": {
      "text/plain": [
       "0.09016393442622951"
      ]
     },
     "execution_count": 6,
     "metadata": {},
     "output_type": "execute_result"
    }
   ],
   "source": [
    "P_A_given_B = P_A * P_B_given_A / P_B\n",
    "P_A_given_B"
   ]
  },
  {
   "cell_type": "markdown",
   "metadata": {},
   "source": [
    "$$\n",
    "P(A|B) = \\frac{P(B|A)P(A)}{P(B)} = \\frac{0.99 \\cdot 0.001}{0.01098} = 0.09016\n",
    "$$"
   ]
  },
  {
   "cell_type": "markdown",
   "metadata": {},
   "source": [
    "C. We want to find values for $P(B|A)$ and $P(B|A^c)$ such that $P(A|B) = 0.8$.\n",
    "\n",
    "Let assume that $P(B|A) = 1 - P(B|A^c) = p$ and $P(A) = 0.000001$.\n",
    "\n",
    "$$\n",
    "P(A|B) = \\frac{P(B|A)P(A)}{P(B)} = \\frac{P(B|A)P(A)}{P(B|A) P(A) + P(B|A^c) P(A^c)} = \\frac{p \\cdot P(A)}{p \\cdot P(A) + (1 - p) \\cdot P(A^c)}\n",
    "$$\n",
    "Thus\n",
    "$$\n",
    "p = \\frac{P(A|B)P(A^c)}{P(A) + P(A|B)P(A^c) - P(A|B)P(A)}\n",
    "$$\n"
   ]
  },
  {
   "cell_type": "code",
   "execution_count": 7,
   "metadata": {},
   "outputs": [
    {
     "data": {
      "text/plain": [
       "0.9999997499998124"
      ]
     },
     "execution_count": 7,
     "metadata": {},
     "output_type": "execute_result"
    }
   ],
   "source": [
    "P_A_given_B = 0.8\n",
    "P_A = 0.000001\n",
    "P_Ac = 1 - P_A\n",
    "p = P_A_given_B * P_Ac / (P_A + P_A_given_B * P_Ac - P_A_given_B * P_A)\n",
    "p"
   ]
  },
  {
   "cell_type": "markdown",
   "metadata": {
    "colab_type": "text",
    "id": "bJn8c_uwQ5G9"
   },
   "source": [
    "# Problem 2 [2p + 1b] Naive Bayes Classifier\n",
    "\n",
    "The Bayes' theorem allows us to construct a classifier in which we\n",
    "model how the data is generated. Here we will describe a\n",
    "simple and popular example of such a classifier called the naive\n",
    "Bayes classifier.  Despite its simplicity It is quite effective for\n",
    "classification of text documents (e.g. as spam and non-spam).\n",
    "\n",
    "Let a document be a sequence of words $D=W_1,W_2,\\ldots,W_n$ \n",
    "We will model generation of text documents as a two-stage process.\n",
    "First, document category $C_j$ is drawn at random with probability\n",
    "$p(C_j)$, also called the *a priori* probability.\n",
    "To define the class-conditional probability\n",
    "$p(D|C_j)$, we will make a simplifying (naive)\n",
    "assumption, that every word in the document is drawn independently at\n",
    "random with probability $p(W_i|C)$:\n",
    "\n",
    "\\begin{equation*}\n",
    "  p(D|C_j) = p(W_1,W_2,\\ldots,W_n | C_j) \\approx p(W_1|C_j)p(W_2|C_j)\\ldots p(W_n|C_j).\n",
    "\\end{equation*}\n",
    "\n",
    "To infer the class of a document we apply the Bayes theorem:\n",
    "\\begin{equation*}   p(C_j|D) = \\frac{p(D|C_j)p(C_j)}{p(D)} = \\frac{p(C_j)p(W_1|C_j)p(W_2|C_j)\\ldots p(W_n|C_j)}{p(D)}.\n",
    "\\end{equation*}\n",
    "Please note that since we assumed only a finite number of classes,\n",
    "we can compute the term $p(D)$ by making sure that the *a\n",
    "posteriori probabilities* $p(C_j|D)$ sum to $1$ over all classes.\n",
    "\n",
    "In this exercise we will try to mimic the language-guessing feature\n",
    "of [Google Translate](https://translate.google.com/), although\n",
    "on a much smaller scale.  We are given an input which is a\n",
    "lower-case sequence of characters (such as *\"some people like\n",
    "pineapple on their pizza\"*), and we determine whether the\n",
    "sequence's language is English, Polish or Spanish.\n",
    "We will treat each character as a separate observation.\n",
    "The numbers are taken from [Wikipedia article on letter frequency](https://en.wikipedia.org/wiki/Letter_frequency#Relative_frequencies_of_letters_in_other_languages). We display the first few rows:"
   ]
  },
  {
   "cell_type": "code",
   "execution_count": 29,
   "metadata": {
    "colab": {},
    "colab_type": "code",
    "id": "kpHvgJRwQ5G-",
    "outputId": "908125b8-b50f-46f1-bb18-04a1c8a8a88d"
   },
   "outputs": [
    {
     "data": {
      "text/html": [
       "<div>\n",
       "<style>\n",
       "    .dataframe thead tr:only-child th {\n",
       "        text-align: right;\n",
       "    }\n",
       "\n",
       "    .dataframe thead th {\n",
       "        text-align: left;\n",
       "    }\n",
       "\n",
       "    .dataframe tbody tr th {\n",
       "        vertical-align: top;\n",
       "    }\n",
       "</style>\n",
       "<table border=\"1\" class=\"dataframe\">\n",
       "  <thead>\n",
       "    <tr style=\"text-align: right;\">\n",
       "      <th></th>\n",
       "      <th>English</th>\n",
       "      <th>French</th>\n",
       "      <th>German</th>\n",
       "      <th>Spanish</th>\n",
       "      <th>Portuguese</th>\n",
       "      <th>Esperanto</th>\n",
       "      <th>Italian</th>\n",
       "      <th>Turkish</th>\n",
       "      <th>Swedish</th>\n",
       "      <th>Polish</th>\n",
       "      <th>Dutch</th>\n",
       "      <th>Danish</th>\n",
       "      <th>Icelandic</th>\n",
       "      <th>Finnish</th>\n",
       "      <th>Czech</th>\n",
       "    </tr>\n",
       "  </thead>\n",
       "  <tbody>\n",
       "    <tr>\n",
       "      <th>a</th>\n",
       "      <td>8.167</td>\n",
       "      <td>7.636</td>\n",
       "      <td>6.516</td>\n",
       "      <td>11.525</td>\n",
       "      <td>14.634</td>\n",
       "      <td>12.117</td>\n",
       "      <td>11.745</td>\n",
       "      <td>12.920</td>\n",
       "      <td>9.383</td>\n",
       "      <td>10.503</td>\n",
       "      <td>7.486</td>\n",
       "      <td>6.025</td>\n",
       "      <td>10.110</td>\n",
       "      <td>12.217</td>\n",
       "      <td>8.421</td>\n",
       "    </tr>\n",
       "    <tr>\n",
       "      <th>b</th>\n",
       "      <td>1.492</td>\n",
       "      <td>0.901</td>\n",
       "      <td>1.886</td>\n",
       "      <td>2.215</td>\n",
       "      <td>1.043</td>\n",
       "      <td>0.980</td>\n",
       "      <td>0.927</td>\n",
       "      <td>2.844</td>\n",
       "      <td>1.535</td>\n",
       "      <td>1.740</td>\n",
       "      <td>1.584</td>\n",
       "      <td>2.000</td>\n",
       "      <td>1.043</td>\n",
       "      <td>0.281</td>\n",
       "      <td>0.822</td>\n",
       "    </tr>\n",
       "    <tr>\n",
       "      <th>c</th>\n",
       "      <td>2.782</td>\n",
       "      <td>3.260</td>\n",
       "      <td>2.732</td>\n",
       "      <td>4.019</td>\n",
       "      <td>3.882</td>\n",
       "      <td>0.776</td>\n",
       "      <td>4.501</td>\n",
       "      <td>1.463</td>\n",
       "      <td>1.486</td>\n",
       "      <td>3.895</td>\n",
       "      <td>1.242</td>\n",
       "      <td>0.565</td>\n",
       "      <td>0.000</td>\n",
       "      <td>0.281</td>\n",
       "      <td>0.740</td>\n",
       "    </tr>\n",
       "    <tr>\n",
       "      <th>d</th>\n",
       "      <td>4.253</td>\n",
       "      <td>3.669</td>\n",
       "      <td>5.076</td>\n",
       "      <td>5.010</td>\n",
       "      <td>4.992</td>\n",
       "      <td>3.044</td>\n",
       "      <td>3.736</td>\n",
       "      <td>5.206</td>\n",
       "      <td>4.702</td>\n",
       "      <td>3.725</td>\n",
       "      <td>5.933</td>\n",
       "      <td>5.858</td>\n",
       "      <td>1.575</td>\n",
       "      <td>1.043</td>\n",
       "      <td>3.475</td>\n",
       "    </tr>\n",
       "    <tr>\n",
       "      <th>e</th>\n",
       "      <td>12.702</td>\n",
       "      <td>14.715</td>\n",
       "      <td>16.396</td>\n",
       "      <td>12.181</td>\n",
       "      <td>12.570</td>\n",
       "      <td>8.995</td>\n",
       "      <td>11.792</td>\n",
       "      <td>9.912</td>\n",
       "      <td>10.149</td>\n",
       "      <td>7.352</td>\n",
       "      <td>18.910</td>\n",
       "      <td>15.453</td>\n",
       "      <td>6.418</td>\n",
       "      <td>7.968</td>\n",
       "      <td>7.562</td>\n",
       "    </tr>\n",
       "  </tbody>\n",
       "</table>\n",
       "</div>"
      ],
      "text/plain": [
       "   English  French  German  Spanish  Portuguese  Esperanto  Italian  Turkish  \\\n",
       "a    8.167   7.636   6.516   11.525      14.634     12.117   11.745   12.920   \n",
       "b    1.492   0.901   1.886    2.215       1.043      0.980    0.927    2.844   \n",
       "c    2.782   3.260   2.732    4.019       3.882      0.776    4.501    1.463   \n",
       "d    4.253   3.669   5.076    5.010       4.992      3.044    3.736    5.206   \n",
       "e   12.702  14.715  16.396   12.181      12.570      8.995   11.792    9.912   \n",
       "\n",
       "   Swedish  Polish   Dutch  Danish  Icelandic  Finnish  Czech  \n",
       "a    9.383  10.503   7.486   6.025     10.110   12.217  8.421  \n",
       "b    1.535   1.740   1.584   2.000      1.043    0.281  0.822  \n",
       "c    1.486   3.895   1.242   0.565      0.000    0.281  0.740  \n",
       "d    4.702   3.725   5.933   5.858      1.575    1.043  3.475  \n",
       "e   10.149   7.352  18.910  15.453      6.418    7.968  7.562  "
      ]
     },
     "execution_count": 29,
     "metadata": {},
     "output_type": "execute_result"
    }
   ],
   "source": [
    "import pandas as pd\n",
    "import numpy as np\n",
    "from io import StringIO\n",
    "\n",
    "wiki_table = u\"\"\"English|French|German|Spanish|Portuguese|Esperanto|Italian|Turkish|Swedish|Polish|Dutch|Danish|Icelandic|Finnish|Czech\\na|8.167|7.636|6.516|11.525|14.634|12.117|11.745|12.920|9.383|10.503|7.486|6.025|10.110|12.217|8.421\\nb|1.492|0.901|1.886|2.215|1.043|0.980|0.927|2.844|1.535|1.740|1.584|2.000|1.043|0.281|0.822\\nc|2.782|3.260|2.732|4.019|3.882|0.776|4.501|1.463|1.486|3.895|1.242|0.565|0|0.281|0.740\\nd|4.253|3.669|5.076|5.010|4.992|3.044|3.736|5.206|4.702|3.725|5.933|5.858|1.575|1.043|3.475\\ne|12.702|14.715|16.396|12.181|12.570|8.995|11.792|9.912|10.149|7.352|18.91|15.453|6.418|7.968|7.562\\nf|2.228|1.066|1.656|0.692|1.023|1.037|1.153|0.461|2.027|0.143|0.805|2.406|3.013|0.194|0.084\\ng|2.015|0.866|3.009|1.768|1.303|1.171|1.644|1.253|2.862|1.731|3.403|4.077|4.241|0.392|0.092\\nh|6.094|0.737|4.577|0.703|0.781|0.384|0.636|1.212|2.090|1.015|2.380|1.621|1.871|1.851|1.356\\ni|6.966|7.529|6.550|6.247|6.186|10.012|10.143|9.600|5.817|8.328|6.499|6.000|7.578|10.817|6.073\\nj|0.153|0.613|0.268|0.493|0.397|3.501|0.011|0.034|0.614|1.836|1.46|0.730|1.144|2.042|1.433\\nk|0.772|0.049|1.417|0.011|0.015|4.163|0.009|5.683|3.140|2.753|2.248|3.395|3.314|4.973|2.894\\nl|4.025|5.456|3.437|4.967|2.779|6.104|6.510|5.922|5.275|2.564|3.568|5.229|4.532|5.761|3.802\\nm|2.406|2.968|2.534|3.157|4.738|2.994|2.512|3.752|3.471|2.515|2.213|3.237|4.041|3.202|2.446\\nn|6.749|7.095|9.776|6.712|4.446|7.955|6.883|7.987|8.542|6.237|10.032|7.240|7.711|8.826|6.468\\no|7.507|5.796|2.594|8.683|9.735|8.779|9.832|2.976|4.482|6.667|6.063|4.636|2.166|5.614|6.695\\np|1.929|2.521|0.670|2.510|2.523|2.755|3.056|0.886|1.839|2.445|1.57|1.756|0.789|1.842|1.906\\nq|0.095|1.362|0.018|0.877|1.204|0|0.505|0|0.020|0|0.009|0.007|0|0.013|0.001\\nr|5.987|6.693|7.003|6.871|6.530|5.914|6.367|7.722|8.431|5.243|6.411|8.956|8.581|2.872|4.799\\ns|6.327|7.948|7.270|7.977|6.805|6.092|4.981|3.014|6.590|5.224|3.73|5.805|5.630|7.862|5.212\\nt|9.056|7.244|6.154|4.632|4.336|5.276|5.623|3.314|7.691|2.475|6.79|6.862|4.953|8.750|5.727\\nu|2.758|6.311|4.166|2.927|3.639|3.183|3.011|3.235|1.919|2.062|1.99|1.979|4.562|5.008|2.160\\nv|0.978|1.838|0.846|1.138|1.575|1.904|2.097|0.959|2.415|0.012|2.85|2.332|2.437|2.250|5.344\\nw|2.360|0.074|1.921|0.017|0.037|0|0.033|0|0.142|5.813|1.52|0.069|0|0.094|0.016\\nx|0.150|0.427|0.034|0.215|0.253|0|0.003|0|0.159|0.004|0.036|0.028|0.046|0.031|0.027\\ny|1.974|0.128|0.039|1.008|0.006|0|0.020|3.336|0.708|3.206|0.035|0.698|0.900|1.745|1.043\\nz|0.074|0.326|1.134|0.467|0.470|0.494|1.181|1.500|0.070|4.852|1.39|0.034|0|0.051|1.503\\nà|0|0.486|0|0|0.072|0|0.635|0|0|0|0|0|0|0|0\\nâ|0|0.051|0|0|0.562|0|0|0|0|0|0|0|0|0|0\\ná|0|0|0|0.502|0.118|0|0|0|0|0|0|0|1.799|0|0.867\\nå|0|0|0|0|0|0|0|0|1.338|0|0|1.190|0|0.003|0\\nä|0|0|0.578|0|0|0|0|0|1.797|0|0|0|0|3.577|0\\nã|0|0|0|0|0.733|0|0|0|0|0|0|0|0|0|0\\ną|0|0|0|0|0|0|0|0|0|0.699|0|0|0|0|0\\næ|0|0|0|0|0|0|0|0|0|0|0|0.872|0.867|0|0\\nœ|0|0.018|0|0|0|0|0|0|0|0|0|0|0|0|0\\nç|0|0.085|0|0|0.530|0|0|1.156|0|0|0|0|0|0|0\\nĉ|0|0|0|0|0|0.657|0|0|0|0|0|0|0|0|0\\nć|0|0|0|0|0|0|0|0|0|0.743|0|0|0|0|0\\nč|0|0|0|0|0|0|0|0|0|0|0|0|0|0|0.462\\nď|0|0|0|0|0|0|0|0|0|0|0|0|0|0|0.015\\nð|0|0|0|0|0|0|0|0|0|0|0|0|4.393|0|0\\nè|0|0.271|0|0|0|0|0.263|0|0|0|0|0|0|0|0\\né|0|1.504|0|0.433|0.337|0|0|0|0|0|0|0|0.647|0|0.633\\nê|0|0.218|0|0|0.450|0|0|0|0|0|0|0|0|0|0\\në|0|0.008|0|0|0|0|0|0|0|0|0|0|0|0|0\\nę|0|0|0|0|0|0|0|0|0|1.035|0|0|0|0|0\\ně|0|0|0|0|0|0|0|0|0|0|0|0|0|0|1.222\\nĝ|0|0|0|0|0|0.691|0|0|0|0|0|0|0|0|0\\nğ|0|0|0|0|0|0|0|1.125|0|0|0|0|0|0|0\\nĥ|0|0|0|0|0|0.022|0|0|0|0|0|0|0|0|0\\nî|0|0.045|0|0|0|0|0|0|0|0|0|0|0|0|0\\nì|0|0|0|0|0|0|0.030|0|0|0|0|0|0|0|0\\ní|0|0|0|0.725|0.132|0|0|0|0|0|0|0|1.570|0|1.643\\nï|0|0.005|0|0|0|0|0|0|0|0|0|0|0|0|0\\nı|0|0|0|0|0|0|0|5.114|0|0|0|0|0|0|0\\nĵ|0|0|0|0|0|0.055|0|0|0|0|0|0|0|0|0\\nł|0|0|0|0|0|0|0|0|0|2.109|0|0|0|0|0\\nñ|0|0|0|0.311|0|0|0|0|0|0|0|0|0|0|0\\nń|0|0|0|0|0|0|0|0|0|0.362|0|0|0|0|0\\nň|0|0|0|0|0|0|0|0|0|0|0|0|0|0|0.007\\nò|0|0|0|0|0|0|0.002|0|0|0|0|0|0|0|0\\nö|0|0|0.443|0|0|0|0|0.777|1.305|0|0|0|0.777|0.444|0\\nô|0|0.023|0|0|0.635|0|0|0|0|0|0|0|0|0|0\\nó|0|0|0|0.827|0.296|0|0|0|0|1.141|0|0|0.994|0|0.024\\nõ|0|0|0|0|0.040|0|0|0|0|0|0|0|0|0|0\\nø|0|0|0|0|0|0|0|0|0|0|0|0.939|0|0|0\\nř|0|0|0|0|0|0|0|0|0|0|0|0|0|0|0.380\\nŝ|0|0|0|0|0|0.385|0|0|0|0|0|0|0|0|0\\nş|0|0|0|0|0|0|0|1.780|0|0|0|0|0|0|0\\nś|0|0|0|0|0|0|0|0|0|0.814|0|0|0|0|0\\nš|0|0|0|0|0|0|0|0|0|0|0|0|0|0|0.688\\nß|0|0|0.307|0|0|0|0|0|0|0|0|0|0|0|0\\nť|0|0|0|0|0|0|0|0|0|0|0|0|0|0|0.006\\nþ|0|0|0|0|0|0|0|0|0|0|0|0|1.455|0|0\\nù|0|0.058|0|0|0|0|0.166|0|0|0|0|0|0|0|0\\nú|0|0|0|0.168|0.207|0|0|0|0|0|0|0|0.613|0|0.045\\nû|0|0.060|0|0|0|0|0|0|0|0|0|0|0|0|0\\nŭ|0|0|0|0|0|0.520|0|0|0|0|0|0|0|0|0\\nü|0|0|0.995|0.012|0.026|0|0|1.854|0|0|0|0|0|0|0\\nů|0|0|0|0|0|0|0|0|0|0|0|0|0|0|0.204\\ný|0|0|0|0|0|0|0|0|0|0|0|0|0.228|0|0.995\\nź|0|0|0|0|0|0|0|0|0|0.078|0|0|0|0|0\\nż|0|0|0|0|0|0|0|0|0|0.706|0|0|0|0|0\\nž|0|0|0|0|0|0|0|0|0|0|0|0|0|0|0.721\"\"\"\n",
    "df = pd.read_table(StringIO(wiki_table), sep='|', index_col=0)\n",
    "df.head()"
   ]
  },
  {
   "cell_type": "markdown",
   "metadata": {
    "colab_type": "text",
    "id": "UhHSbS9cQ5HE"
   },
   "source": [
    "Implement the language classifier and answer the following:\n",
    "\n",
    "1. **[0.5p]** Naive Bayes can be implemented\n",
    "    either by multiplying probabilities or by adding\n",
    "    log-probabilities. Which one is better and why?\n",
    "2. **[1.5p]** What is the language of the following phrases, according to the classifier (below in a code cell)? Assume equal prior language probabilities $P(C)$.\n",
    "3. **[0-1 bonus]** What happens when a Naive Bayes classifier\n",
    "      is applied to a document with out-of-vocabulary words? Propose\n",
    "      some solutions. Relate them to the concept of Bayesian\n",
    "      priors discussed during the lecture."
   ]
  },
  {
   "cell_type": "markdown",
   "metadata": {},
   "source": [
    "1. log probabilities are better, because multiplying many values less than 1 can converge to 0"
   ]
  },
  {
   "cell_type": "code",
   "execution_count": 2,
   "metadata": {
    "colab": {},
    "colab_type": "code",
    "id": "03b7PdtRQ5HF"
   },
   "outputs": [],
   "source": [
    "sentences = [\n",
    "    u\"No dejes para mañana lo que puedas hacer hoy.\",\n",
    "    u\"Przed wyruszeniem w drogę należy zebrać drużynę.\",\n",
    "    u\"Żeby zrozumieć rekurencję, należy najpierw zrozumieć rekurencję.\",\n",
    "    u\"Si vale la pena hacerlo vale la pena hacerlo bien.\",\n",
    "    u\"Experience is what you get when you didn't get what you wanted.\",\n",
    "    u\"Należy prowokować intelekt, nie intelektualistów.\"]"
   ]
  },
  {
   "cell_type": "code",
   "execution_count": 49,
   "metadata": {
    "colab": {},
    "colab_type": "code",
    "id": "AFbrsRqIQ5HK"
   },
   "outputs": [
    {
     "name": "stdout",
     "output_type": "stream",
     "text": [
      "Languages: English,French,German,Spanish,Portuguese,Esperanto,Italian,Turkish,Swedish,Polish,Dutch,Danish,Icelandic,Finnish,Czech \n",
      "\n",
      "\n",
      "Letters: a, b, c, d, e, f, g, h, i, j, k, l, m, n, o, p, q, r, s, t, u, v, w, x, y, z, à, â, á, å, ä, ã, ą, æ, œ, ç, ĉ, ć, č, ď, ð, è, é, ê, ë, ę, ě, ĝ, ğ, ĥ, î, ì, í, ï, ı, ĵ, ł, ñ, ń, ň, ò, ö, ô, ó, õ, ø, ř, ŝ, ş, ś, š, ß, ť, þ, ù, ú, û, ŭ, ü, ů, ý, ź, ż, ž \n",
      "\n",
      "\n",
      "P(ę|Polish) = 1.035 \n",
      "\n",
      "\n",
      "[ 0.06666667  0.06666667  0.06666667  0.06666667  0.06666667  0.06666667\n",
      "  0.06666667  0.06666667  0.06666667  0.06666667  0.06666667  0.06666667\n",
      "  0.06666667  0.06666667  0.06666667] \n",
      "\n",
      "\n",
      "Spanish : No dejes para mañana lo que puedas hacer hoy.\n",
      "Polish : Przed wyruszeniem w drogę należy zebrać drużynę.\n",
      "Polish : Żeby zrozumieć rekurencję, należy najpierw zrozumieć rekurencję.\n",
      "Spanish : Si vale la pena hacerlo vale la pena hacerlo bien.\n",
      "English : Experience is what you get when you didn't get what you wanted.\n",
      "Polish : Należy prowokować intelekt, nie intelektualistów.\n"
     ]
    },
    {
     "name": "stderr",
     "output_type": "stream",
     "text": [
      "/home/dominik/anaconda3/lib/python3.6/site-packages/ipykernel_launcher.py:17: RuntimeWarning: divide by zero encountered in log\n"
     ]
    }
   ],
   "source": [
    "# We can easily access the data.\n",
    "langs = list(df)\n",
    "letters = list(df.index)\n",
    "print('Languages:', ','.join(langs), '\\n\\n')\n",
    "print('Letters:', ', '.join(letters), '\\n\\n')\n",
    "print(u'P(ę|Polish) =', df.loc['ę', 'Polish'], '\\n\\n')\n",
    "\n",
    "# Normalize values to a probability distribution\n",
    "df_norm = df.divide(df.values.sum(0) * len(langs))\n",
    "print(df_norm.values.sum(0), '\\n\\n')\n",
    "\n",
    "\n",
    "def naive_bayes(sent, langs, df_norm):\n",
    "    \"\"\"Returns the most probable language of a sentence\"\"\"\n",
    "    sent = sent.lower()\n",
    "    sent = ''.join([s if s in letters else '' for s in sent])\n",
    "    df_log = np.log(df_norm)\n",
    "    probs = df_log.loc[list(sent), ['Polish', 'English', 'Spanish']]\n",
    "    res = probs.sum(axis=0)\n",
    "    return res.idxmax()\n",
    "\n",
    "for sent in sentences:\n",
    "    print(naive_bayes(sent, langs, df_norm), ':', sent)"
   ]
  },
  {
   "cell_type": "markdown",
   "metadata": {
    "colab_type": "text",
    "id": "QSwWrzzEQ5HO"
   },
   "source": [
    "# Problem 3 [2p]\n",
    "Given observations $x_1,\\ldots,x_n$\n",
    "  coming from a certain distribution,\n",
    "  prove that MLE of a particular parameter of that distribution is equal to the sample mean $\\frac{1}{n}\\sum_{i=1}^n x_i$:\n",
    "1. Bernoulli distribution with success probability $p$ and MLE $\\hat{p}$,\n",
    "2. Gaussian distribution $\\mathcal{N}(\\mu,\\sigma)$ and MLE $\\hat{\\mu}$,\n",
    "3. Poisson distribution $\\mathit{Pois}(\\lambda)$ and MLE $\\hat{\\lambda}$.\n",
    "\n",
    "*NOTE: You can submit your solution on paper. To freeze the solution and spend late days, at minimum send a photo of your solution via e-mail.*"
   ]
  },
  {
   "cell_type": "markdown",
   "metadata": {},
   "source": [
    "1. $\\textbf{Bernoulli distribution} \\\\ $ \n",
    "$$\n",
    "P_{p}(X_k = x_k) = p^x (1-p)^{1-x} \\\\\n",
    "L(p) = \\prod_{k=1}^{n}P_{p}(X_k = x_k) \\\\\n",
    "l(p) = \\sum_{k=1}^{n}\\log(P_{p}(X_k = x_k)) = \\sum_{k=1}^{n}\\log(p^{x_k} (1-p)^{1-x_k}) = \\sum_{k=1}^{n}(x_k\\log p + (1-x_k)\\log(1-p)) \\\\\n",
    "l'(p) = \\sum_{k=1}^{n} \\frac{x_k - p}{p(1-p)} = \\frac{\\sum_{k=1}^{n} x_k - np}{p(1-p)}\n",
    "$$\n",
    "\n",
    "Substituting $l'(p) = 0$ we can ommit denominator, so we get:\n",
    "$$\n",
    "\\sum_{k=1}^{n} x_k - np = 0 \\\\\n",
    "\\frac{1}{n}\\sum_{k=1}^{n} x_k = p\n",
    "$$\n",
    "Therefore $\\hat{p} = \\frac{1}{n}\\sum_{k=1}^{n} x_k$"
   ]
  },
  {
   "cell_type": "markdown",
   "metadata": {},
   "source": [
    "1. $\\textbf{Gaussian distribution} \\\\ $ \n",
    "$$\n",
    "f_{\\mu}(x) = \\frac{1}{\\sqrt{2\\pi}\\sigma} e^{-\\frac{1}{2}(\\frac{x-\\mu}{\\sigma})^2} \\\\\n",
    "L(\\mu) = \\prod_{k=1}^{n}f_{\\mu}(x_k) \\\\\n",
    "l(p) = \\sum_{k=1}^{n}\\log(f_{\\mu}(x_k)) = \\sum_{k=1}^{n}\\log(\\frac{1}{\\sqrt{2\\pi}\\sigma} e^{-\\frac{1}{2}(\\frac{x_k-\\mu}{\\sigma})^2}) = \\sum_{k=1}^{n}\\left(\\log(\\frac{1}{\\sqrt{2\\pi}\\sigma}) - \\frac{1}{2}\\left(\\frac{x_k - \\mu}{\\sigma}\\right)^2 \\right)\\\\\n",
    "l'(\\mu) = \\sum_{k=1}^{n} \\frac{x_k - \\mu}{\\sigma^2}\n",
    "$$\n",
    "\n",
    "Substituting $l'(\\mu) = 0$ we can ommit denominator, so we get:\n",
    "$$\n",
    "\\sum_{k=1}^{n} x_k - n\\mu = 0 \\\\\n",
    "\\frac{1}{n}\\sum_{k=1}^{n} x_k = \\mu\n",
    "$$\n",
    "Therefore $\\hat{\\mu} = \\frac{1}{n}\\sum_{k=1}^{n} x_k$"
   ]
  },
  {
   "cell_type": "markdown",
   "metadata": {},
   "source": [
    "1. $\\textbf{Poisson distribution} \\\\ $ \n",
    "$$\n",
    "P_{\\lambda}(X_k = x_k) = \\frac{\\lambda^{x_k}}{x_k!}e^{-\\lambda} \\\\\n",
    "L(\\lambda) = \\prod_{k=1}^{n}P_{\\lambda}(X_k = x_k) \\\\\n",
    "l(\\lambda) = \\sum_{k=1}^{n}\\log(P_{\\lambda}(X_k = x_k)) = \\sum_{k=1}^{n} \\left( x_k \\log(\\lambda) - \\log(x_k!) - \\lambda \\right) \\\\\n",
    "l'(\\lambda) = \\frac{1}{\\lambda} \\sum_{k=1}^{n} (x_k -1)\n",
    "$$\n",
    "\n",
    "Substituting $l'(p) = 0$ we can ommit denominator, so we get:\n",
    "$$\n",
    "\\frac{1}{\\lambda} \\sum_{k=1}^{n} (x_k -1) = 0 \\\\\n",
    "\\frac{1}{n}\\sum_{k=1}^{n} x_k = \\lambda\n",
    "$$\n",
    "Therefore $\\hat{\\lambda} = \\frac{1}{n}\\sum_{k=1}^{n} x_k$"
   ]
  },
  {
   "cell_type": "markdown",
   "metadata": {
    "colab_type": "text",
    "id": "7u2TchcaRaaZ"
   },
   "source": [
    "# Problem 4: Simple Kalman filtering [3p + 2b]\n",
    "\n",
    "Oh no, someone has kidnapped you! You feel that you are in the trunk of a moving car. Luckily, you have your phone with GPS. Unfortunately, the GPS is noisy. You want to combine your estimate of your location by combining your prior belief about where you can be with the noisy GPS. You set out to implement a [1D Kalman filter](https://en.wikipedia.org/wiki/Kalman_filter).\n",
    "\n",
    "Problem setup:\n",
    "- your prior belief about the location is a Gaussian with mean 0 and some initial standard deviation $\\mathcal{N}(0, \\sigma_i)$\n",
    "- the car moves in a brownian motion - each time step, it changes location by a normally distributed random amound sampled from $\\mathcal{N}(0, \\sigma_m)$\n",
    "- each time step, you get a GPS reading which is sampled around your true (and sadly unknown to you ) location from $\\mathcal{N}(\\text{true loc}, \\sigma_g)$\n",
    "\n",
    "You want to use the following algorithm to track your location:\n",
    "\n",
    "1. Initially, the PDF of your location is $p(x) = \\mathcal{N}(x; \\mu_l=0, \\sigma_l=\\sigma_i)$\n",
    "2. For each time step, you update your belief about your location:\n",
    "    1. $p(x)$ is updated due to according to the car movement distribution\n",
    "    2. you use the Bayes formula to incorporate the GPS readout:\n",
    "       $$\n",
    "      p(x|\\text{GPS readout}) = \\frac{p(\\text{GPS readout}|x)p(x)}\n",
    "                                                           {p(\\text{GPS readout})}\n",
    "      $$\n",
    "    3. you set $p(x) \\gets p(x|\\text{GPS readout})$ to be your prior belief about your locatin used during the next iteration.\n",
    "\n",
    "\n",
    "NB: the GPS is actually very noisy, and Kalman filters are routinely used to fuse information from the GPS, accelerometers and odometry in practical applications, such as GPS navigation.\n",
    "\n",
    "#### Problem [1p]\n",
    "\n",
    "What is thePDF of\n",
    "$$\n",
    "p(x) = \\mathcal{N}(x;\\mu_1, \\sigma_1)\\mathcal{N}(x;\\mu_2, \\sigma_2)\n",
    "$$\n",
    "\n",
    "Hint: what disrtibution will the PDF belong to? Maybe you can simply compute the new mean and standard deviation?\n",
    "\n",
    "#### Problem [.5p]\n",
    "\n",
    "Implement below a simulator for your kidnapping, then fill in the code for plotting the true location and GPS readouts over time.\n",
    "\n",
    "#### Problem [1.5p]\n",
    "\n",
    "Implement a 1D Kalman filer using the algorithm stated above: maintian a probability distribution over your location, then at each timestep update it to account for car movement and GPS readouts.\n",
    "\n",
    "Plot the estimated location along with its standard deviation against the true location from the simluator.\n",
    "\n",
    "Experiemt with different setting for the standard deviations of the car's motion and the GPS. What happens if the simulator and the Kalman filter use different probability distributions?\n",
    "\n",
    "#### Problem [2p bonus]\n",
    "\n",
    "Suppose the car has a velocity, which is updated at each time step:\n",
    "$$\n",
    "\\begin{split}\n",
    "v &\\gets v + \\mathcal{N}(0, \\sigma_v) \\\\\n",
    "x &\\gets x + v \\\\\n",
    "\\text{GPS readout} &= \\mathcal{N}(x, \\sigma_g) \n",
    "\\end{split}\n",
    "$$\n",
    "\n",
    "Update the Kalman filter code to track both the car's location and velocity. You cna assume that the initial velocity is 0."
   ]
  },
  {
   "cell_type": "code",
   "execution_count": 1,
   "metadata": {
    "colab": {},
    "colab_type": "code",
    "id": "jUWXu0G_RssR"
   },
   "outputs": [],
   "source": [
    "import matplotlib.pyplot as plt\n",
    "import numpy as np\n",
    "import pandas as pd\n",
    "\n",
    "import seaborn as sns\n",
    "\n",
    "sns.set_style('whitegrid')\n",
    "\n",
    "from scipy.stats import norm"
   ]
  },
  {
   "cell_type": "code",
   "execution_count": 30,
   "metadata": {
    "colab": {},
    "colab_type": "code",
    "id": "vAESWWo0R224"
   },
   "outputs": [],
   "source": [
    "def simulate(initial_sigma, motion_sigma, gps_sigma, n_steps):\n",
    "    # This is the true (unknonw) location\n",
    "    x = norm.rvs(0, initial_sigma)\n",
    "    loc_hist = []\n",
    "    for s in range(n_steps):\n",
    "        # first gps readout is after first motion\n",
    "        x += np.random.randn() * motion_sigma\n",
    "        gps_readout = np.random.randn() * gps_sigma + x\n",
    "        loc_hist.append((x, gps_readout))\n",
    "    loc_df = pd.DataFrame(loc_hist, columns=['x', 'gps'])\n",
    "    return loc_df\n",
    "\n",
    "\n",
    "def kalman_predict(loc_df, initial_sigma, motion_sigma, gps_sigma):\n",
    "    prior_mu = 0\n",
    "    prior_sigma = initial_sigma\n",
    "    predictions = []\n",
    "    for gps_readout in loc_df.gps:\n",
    "        \n",
    "        posterior_mu = prior_mu + prior_sigma**2 / (gps_sigma**2 + prior_sigma**2) * (gps_readout - prior_mu)\n",
    "        posterior_sigma = (1 - prior_sigma**2 / (gps_sigma**2 + prior_sigma**2)) * prior_sigma**2\n",
    "        \n",
    "        predictions.append((posterior_mu, posterior_sigma))\n",
    "        prior_mu = posterior_mu\n",
    "        prior_sigma = posterior_sigma\n",
    "        \n",
    "\n",
    "    predictions_df = pd.DataFrame(predictions, columns=['mu', 'sigma'])\n",
    "    return predictions_df"
   ]
  },
  {
   "cell_type": "code",
   "execution_count": 27,
   "metadata": {
    "colab": {},
    "colab_type": "code",
    "id": "vAESWWo0R224"
   },
   "outputs": [],
   "source": [
    "def simulate(initial_sigma, motion_sigma, gps_sigma, n_steps):\n",
    "    # This is the true (unknonw) location\n",
    "    x = norm.rvs(0, initial_sigma)\n",
    "    loc_hist = []\n",
    "    for s in range(n_steps):\n",
    "        # first gps readout is after first motion\n",
    "        x += np.random.randn() * motion_sigma\n",
    "        gps_readout = np.random.randn() * gps_sigma + x\n",
    "        loc_hist.append((x, gps_readout))\n",
    "    loc_df = pd.DataFrame(loc_hist, columns=['x', 'gps'])\n",
    "    return loc_df\n",
    "\n",
    "\n",
    "def kalman_predict(loc_df, initial_sigma, motion_sigma, gps_sigma):\n",
    "    prior_mu = 0\n",
    "    prior_sigma = initial_sigma\n",
    "    predictions = []\n",
    "    for gps_readout in loc_df.gps:\n",
    "        \n",
    "        posterior_mu = prior_mu + (prior_sigma**2 * (gps_readout - prior_mu) / (prior_sigma**2 + gps_sigma**2))\n",
    "        posterior_sigma = prior_sigma**2 - (prior_sigma**4 / (prior_sigma**2 + gps_sigma**2))\n",
    "        \n",
    "        predictions.append((posterior_mu, posterior_sigma))\n",
    "        prior_mu = posterior_mu\n",
    "        prior_sigma = posterior_sigma\n",
    "        \n",
    "\n",
    "    predictions_df = pd.DataFrame(predictions, columns=['mu', 'sigma'])\n",
    "    return predictions_df"
   ]
  },
  {
   "cell_type": "code",
   "execution_count": 31,
   "metadata": {
    "colab": {
     "base_uri": "https://localhost:8080/",
     "height": 376
    },
    "colab_type": "code",
    "id": "YSMerNceR85F",
    "outputId": "0f2cb0b6-5cbd-4902-c603-0fb9bf4f470d"
   },
   "outputs": [
    {
     "data": {
      "image/png": "[encoded data removed]",
      "text/plain": [
       "<Figure size 720x432 with 1 Axes>"
      ]
     },
     "metadata": {},
     "output_type": "display_data"
    }
   ],
   "source": [
    "#@title Parametry symulacji\n",
    "initial_sigma = 100 #@param\n",
    "motion_sigma = 4 #@param\n",
    "gps_sigma = 5 #@param\n",
    "n_steps = 50 #@param\n",
    "\n",
    "\n",
    "loc_df = simulate(initial_sigma, motion_sigma, gps_sigma, n_steps)\n",
    "\n",
    "initial_sigma = 100 #@param\n",
    "motion_sigma = 4 #@param\n",
    "gps_sigma = 5 \n",
    "\n",
    "predictions_df = kalman_predict(loc_df, initial_sigma, motion_sigma, gps_sigma)\n",
    "plt.figure(figsize=(10,6))\n",
    "plt.plot(loc_df.x, 'r', label='true position')\n",
    "plt.plot(loc_df.gps, 'go', label='gps readout')\n",
    "plt.plot(predictions_df.mu, 'b', label='kalman position')\n",
    "plt.fill_between(range(len(predictions_df)),\n",
    "                 predictions_df.mu + predictions_df.sigma,\n",
    "                 predictions_df.mu - predictions_df.sigma, color='b', alpha=0.2)\n",
    "plt.fill_between(range(len(predictions_df)),\n",
    "                 predictions_df.mu + 3 * predictions_df.sigma,\n",
    "                 predictions_df.mu - 3 * predictions_df.sigma, color='b', alpha=0.1)\n",
    "plt.legend(loc='upper center', ncol=3, bbox_to_anchor=(0.5, 1.0), frameon=True)\n",
    "plt.xlabel('time')\n",
    "plt.ylabel('position')\n",
    "plt.title('Kalman filtering of location data')\n",
    "None"
   ]
  },
  {
   "cell_type": "code",
   "execution_count": 135,
   "metadata": {
    "colab": {},
    "colab_type": "code",
    "id": "vAESWWo0R224"
   },
   "outputs": [],
   "source": [
    "def simulate_with_velocity(initial_sigma, velocity_sigma, gps_sigma, n_steps):\n",
    "    # This is the true (unknonw) location\n",
    "    x = norm.rvs(0, initial_sigma)\n",
    "    v = 0\n",
    "    loc_hist = []\n",
    "    for s in range(n_steps):\n",
    "        # first gps readout is after first motion\n",
    "        v += np.random.randn() * velocity_sigma\n",
    "        x += v\n",
    "        gps_readout = np.random.randn() * gps_sigma + x\n",
    "        loc_hist.append((x, v, gps_readout))\n",
    "    loc_df = pd.DataFrame(loc_hist, columns=['x', 'v', 'gps'])\n",
    "    return loc_df\n",
    "\n",
    "\n",
    "def kalman_predict_with_velocity(loc_df, initial_sigma, velocity_sigma, gps_sigma):\n",
    "    prior_mu_v = 0\n",
    "    prior_sigma_v = initial_sigma\n",
    "    prior_mu_x = 0\n",
    "    prior_sigma_x = initial_sigma\n",
    "    predictions_v = []\n",
    "    predictions_x = []\n",
    "    for gps_readout in loc_df.gps:\n",
    "        \n",
    "        posterior_mu_v = prior_mu_v + (prior_sigma_v**2 + 2 * prior_mu_v**2) / (prior_sigma_v**2 + gps_sigma**2) * (gps_readout - (prior_mu_v + prior_mu_x))\n",
    "        posterior_sigma_v = (1 - (prior_sigma_v**2 + 2 * prior_mu_v**2)**2 / (prior_sigma_v**2 + gps_sigma**2) / prior_sigma_v**2) * prior_sigma_v**2\n",
    "        \n",
    "        posterior_mu_x = prior_mu_x + prior_mu_v + (prior_sigma_v**2 - (prior_mu_x - prior_mu_v)**2 - 2 * prior_mu_v * (prior_mu_x - prior_mu_v)) / (prior_sigma_v**2 + gps_sigma**2) * (gps_readout - (prior_mu_v + prior_mu_x))\n",
    "        posterior_sigma_x = (1 - (prior_sigma_v**2 - (prior_mu_x - prior_mu_v)**2 - 2 * prior_mu_v * (prior_mu_x - prior_mu_v))**2 / (prior_sigma_v**2 + gps_sigma**2) / prior_sigma_v**2) * prior_sigma_v**2\n",
    "        \n",
    "        predictions_v.append((posterior_mu_v, posterior_sigma_v))\n",
    "        prior_mu_v = posterior_mu_v\n",
    "        prior_sigma_v = posterior_sigma_v\n",
    "        \n",
    "        predictions_x.append((posterior_mu_x, posterior_sigma_x))\n",
    "        prior_mu_x = posterior_mu_x\n",
    "        prior_sigma_x = posterior_sigma_x\n",
    "        \n",
    "\n",
    "    predictions_df_v = pd.DataFrame(predictions_v, columns=['mu', 'sigma'])\n",
    "    predictions_df_x = pd.DataFrame(predictions_x, columns=['mu', 'sigma'])\n",
    "    return predictions_df_v, predictions_df_x"
   ]
  },
  {
   "cell_type": "code",
   "execution_count": 138,
   "metadata": {
    "colab": {
     "base_uri": "https://localhost:8080/",
     "height": 376
    },
    "colab_type": "code",
    "id": "YSMerNceR85F",
    "outputId": "0f2cb0b6-5cbd-4902-c603-0fb9bf4f470d"
   },
   "outputs": [
    {
     "name": "stderr",
     "output_type": "stream",
     "text": [
      "/home/dominik/anaconda3/lib/python3.6/site-packages/ipykernel_launcher.py:26: RuntimeWarning: divide by zero encountered in double_scalars\n",
      "/home/dominik/anaconda3/lib/python3.6/site-packages/ipykernel_launcher.py:26: RuntimeWarning: invalid value encountered in double_scalars\n",
      "/home/dominik/anaconda3/lib/python3.6/site-packages/ipykernel_launcher.py:29: RuntimeWarning: divide by zero encountered in double_scalars\n",
      "/home/dominik/anaconda3/lib/python3.6/site-packages/ipykernel_launcher.py:29: RuntimeWarning: invalid value encountered in double_scalars\n"
     ]
    },
    {
     "data": {
      "image/png": "[encoded data removed]",
      "text/plain": [
       "<Figure size 720x432 with 1 Axes>"
      ]
     },
     "metadata": {},
     "output_type": "display_data"
    }
   ],
   "source": [
    "#@title Parametry symulacji\n",
    "initial_sigma = 100 #@param\n",
    "velocity_sigma = 4 #@param\n",
    "gps_sigma = 5 #@param\n",
    "n_steps = 50 #@param\n",
    "\n",
    "\n",
    "loc_df = simulate_with_velocity(initial_sigma, velocity_sigma, gps_sigma, n_steps)\n",
    "predictions_df_v, predictions_df_x = kalman_predict_with_velocity(loc_df, initial_sigma, velocity_sigma, gps_sigma)\n",
    "plt.figure(figsize=(10,6))\n",
    "plt.plot(loc_df.v, 'r', label='true velocity')\n",
    "plt.plot(loc_df.gps, 'go', label='gps readout')\n",
    "plt.plot(predictions_df_v.mu, 'b', label='kalman velocity')\n",
    "# plt.fill_between(range(len(predictions_df_v)),\n",
    "#                  predictions_df_v.mu + predictions_df_v.sigma,\n",
    "#                  predictions_df_v.mu - predictions_df_v.sigma, color='b', alpha=0.2)\n",
    "# plt.fill_between(range(len(predictions_df_v)),\n",
    "#                  predictions_df_v.mu + 3 * predictions_df_v.sigma,\n",
    "#                  predictions_df_v.mu - 3 * predictions_df_v.sigma, color='b', alpha=0.1)\n",
    "plt.legend(loc='upper center', ncol=3, bbox_to_anchor=(0.5, 1.0), frameon=True)\n",
    "plt.xlabel('time')\n",
    "plt.ylabel('velocity')\n",
    "plt.title('Kalman filtering of location data')\n",
    "None"
   ]
  },
  {
   "cell_type": "markdown",
   "metadata": {
    "colab_type": "text",
    "id": "hqIULzkxQ5HQ"
   },
   "source": [
    "# Problem 5 [2p]\n",
    "\n",
    "1. Find simple expressions for the following functions' derivatives with respect to vector $\\mathbf{x}$.\n",
    "    1. $\\tanh(\\mathbf{x})$\n",
    "    2. $\\sigma(\\mathbf{x}) = \\frac{1}{1 + e^{-\\mathbf{x}}}$\n",
    "2. Find the following functions' gradients with respect to vector $[x, y, z]^T$:\n",
    "    1. $f_1([x, y, z]^T) = x + y$\n",
    "    2. $f_2([x, y, z]^T) = xy$\n",
    "    3. $f_3([x, y, z]^T) = x^2y^2$\n",
    "    4. $f_4([x, y, z]^T) = (x + y)^2$\n",
    "    5. $f_5([x, y, z]^T) = x^4 + x^2 y z + x y^2 z + z^4$\n",
    "    6. $f_6([x, y, z]^T) = e^{x + 2y}$\n",
    "    7. $f_7([x, y, z]^T) = \\frac{1}{x y^2}$\n",
    "    8. $f_8([x, y, z]^T) = ax + by + c$\n",
    "    9. $f_9([x, y, z]^T) = \\tanh(ax + by + c)$"
   ]
  },
  {
   "cell_type": "markdown",
   "metadata": {},
   "source": [
    "1.\n",
    "A. $$\\tanh(\\mathbf{x}) = \\frac{\\sinh(\\mathbf{x})}{\\cosh(\\mathbf{x})} = \\frac{e^{\\mathbf{x}} - e^{-\\mathbf{x}}}{e^{\\mathbf{x}} + e^{-\\mathbf{x}}} \\\\\n",
    "\\tanh'(\\mathbf{x}) = \\frac{\\cosh^2(\\mathbf{x}) - \\sinh^2(\\mathbf{x})}{\\cosh^2(\\mathbf{x})} = \\frac{1}{\\cosh^2(\\mathbf{x})} = \\frac{1}{e^{\\mathbf{x}} + e^{-\\mathbf{x}}} $$\n",
    "\n",
    "B. $$ \\sigma'(\\mathbf{x}) = \\frac{e^{-\\mathbf{x}}}{(1 + e^{-\\mathbf{x}})^2}\n",
    "$$\n"
   ]
  },
  {
   "cell_type": "markdown",
   "metadata": {},
   "source": [
    "2. \n",
    "$$\n",
    "\\nabla f_1(x,y,z) = (1,1,0) \\\\\n",
    "\\nabla f_2(x,y,z) = (y,x,0) \\\\\n",
    "\\nabla f_3(x,y,z) = (2xy^2, 2x^2y,0) \\\\\n",
    "\\nabla f_4(x,y,z) = (2(x+y), 2(x+y), 0) \\\\\n",
    "\\nabla f_5(x,y,z) = (4x^3 + 2xyz + y^2z, x^2z + 2xyz, x^2y + xy^2 + 4z^3) \\\\\n",
    "\\nabla f_6(x,y,z) = (e^{x+2y}, e^{x+2y}, 0) \\\\\n",
    "\\nabla f_7(x,y,z) = (\\frac{-y^2}{x^2y^4}, \\frac{-2x}{x^2y^4}, 0) \\\\\n",
    "\\nabla f_8(x,y,z) = (a, b, 0)\n",
    "\\nabla f_9(x,y,z) = (a, b, 0) \\cdot \\frac{1}{e^{ax+by+c} + e^{-ax-by-c}}\n",
    "$$"
   ]
  },
  {
   "cell_type": "markdown",
   "metadata": {
    "colab_type": "text",
    "id": "FvTIMFwwQ5HR"
   },
   "source": [
    "# Problem 6 [2p]\n",
    "\n",
    "Find the following functions' gradients or Jacobians with respect to vector $\\mathbf{x}$, where $\\mathbf{x}, \\mathbf{b} \\in \\mathbb{R}^{n}$, $\\mathbf{W} \\in \\mathbb{R}^{n \\times n}$:\n",
    "\n",
    "1. **[0.5p]** $\\mathbf{W} \\mathbf{x} + \\mathbf{b}$\n",
    "2. **[0.5p]** $\\mathbf{x}^T \\mathbf{W} \\mathbf{x}$,\n",
    "3. **[0.5p]** $\\sigma(\\mathbf{W} \\mathbf{x} + \\mathbf{b})$,\n",
    "    with $\\sigma$ applied element-wise. Hint: use the Hadamard product\n",
    "    (denoted $\\circ$) for element-wise matrix multiplication.\n",
    "4. **[0.5p]** $-\\log(S(\\mathbf{x})_j)$, where $S$ is the\n",
    "    softmax function\n",
    "    (https://en.wikipedia.org/wiki/Softmax_function) and we are\n",
    "    interested in the derivative over the $j$-th output of the\n",
    "    Softmax."
   ]
  },
  {
   "cell_type": "markdown",
   "metadata": {},
   "source": [
    "1.\n",
    "$$\n",
    "f_1(\\mathbf{x}) = [f_1^1(\\mathbf{x}), f_1^2(\\mathbf{x}), ..., f_1^n(\\mathbf{x})]^T \\\\\n",
    "\\frac{\\partial f_1^i}{\\partial x_j}(\\mathbf{x}) = \\mathbf{W}_{ij}, \\quad \\mathbf{J}f_1(\\mathbf{x}) = \\mathbf{W}\n",
    "$$\n",
    "\n",
    "2.\n",
    "$$\n",
    "\\nabla f_2(\\mathbf{x}) = \\left[\\sum_{j=1}^n \\mathbf{W}_{ij}\\mathbf{x}_j + \\sum_{j=1}^n \\mathbf{W}_{ji}\\mathbf{x}_j \\right]_{i=1}^n = (\\mathbf{W + W}^T)\\mathbf{x}\n",
    "$$\n",
    "\n",
    "3.\n",
    "$$\n",
    "\\nabla f_3(\\mathbf{x}) = \\sigma'(\\mathbf{Wx+b}) \\circ \\mathbf{W}\n",
    "$$\n",
    "\n",
    "4.\n",
    "$$\n",
    "-\\log(S(\\mathbf{x})_j) = -x_j + \\log \\left({\\sum_{k=1}^n e^{x_k}}\\right) \\\\\n",
    "\\nabla (-\\log(S(\\mathbf{x})_j)) = \\left[\\frac{e^{x_i}}{\\sum_{k=1}^n e^{x_k}} \\right]_{i=1}^n - [0,...,0,1,0,...,0]^T = S(\\mathbf{x}) - [0,...,0,1,0,...,0]^T$$ 1 on j-th position"
   ]
  },
  {
   "cell_type": "markdown",
   "metadata": {
    "colab_type": "text",
    "id": "FzXCYMgmQ5HS"
   },
   "source": [
    "# Problem 7 [2p] Linear Regression\n",
    "\n",
    "1. Implement a function generating a dataset of $n$ points\n",
    "  according to the following algorithm:\n",
    "  1. Draw $n$ points $x \\propto U(0;10)$ (uniformly distributed on $[0,10]$).\n",
    "  2. Draw $n$ points $y \\propto \\mathcal{N}(1+20x-1.3x^2, 7)$\n",
    "    (from a Gaussian distribution with $\\mu=1+20x-1.3x^2$ and $\\sigma=7$).\n",
    "\n",
    "  Prepare a dataset of 30 elements and make a scatterplot of\n",
    "  the expected value $y$ in function $x$.\n",
    "\n",
    "2. Use linear regression to fit polynomials to the\n",
    "  generated dataset. Fit polynomials of degrees zero (a constant line),\n",
    "  one, two and three. An easy way to do it is to transform each data\n",
    "  point $x$ into a vector of its powers $[1, x, x^2, \\ldots, x^m]$.\n",
    "\n",
    "  Plot the dataset and all regression curves on one figure.\n",
    "\n",
    "  **Note:** The name _linear regression_ signifies that the\n",
    "  hypothesis is linear with respect to parameters $\\Theta$.\n",
    "  However, the relationship between $x$ and $y$ is not constrained\n",
    "  to a linear one. In this exercise it is a polynomial one."
   ]
  },
  {
   "cell_type": "code",
   "execution_count": 2,
   "metadata": {
    "colab": {},
    "colab_type": "code",
    "id": "4E4U26MkQ5HT"
   },
   "outputs": [
    {
     "data": {
      "text/plain": [
       "[<matplotlib.lines.Line2D at 0x1a1ea919e8>]"
      ]
     },
     "execution_count": 2,
     "metadata": {},
     "output_type": "execute_result"
    },
    {
     "data": {
      "image/png": "[encoded data removed]",
      "text/plain": [
       "<Figure size 432x288 with 1 Axes>"
      ]
     },
     "metadata": {
      "needs_background": "light"
     },
     "output_type": "display_data"
    }
   ],
   "source": [
    "def make_dataset(N):\n",
    "    X = np.random.rand(N) * 10.\n",
    "    Y = np.random.randn(N) * 7. + 1. + 20.*X - 1.3*X**2\n",
    "    return X,Y\n",
    "\n",
    "data = make_dataset(30)\n",
    "plt.scatter(data[0],data[1], color='r')\n",
    "x = np.arange(0,10,0.1)\n",
    "plt.plot(x, 1. + 20.*x - 1.3*x**2, color='b')"
   ]
  },
  {
   "cell_type": "code",
   "execution_count": 3,
   "metadata": {
    "colab": {},
    "colab_type": "code",
    "id": "yB5_4nkuQ5HY"
   },
   "outputs": [
    {
     "name": "stdout",
     "output_type": "stream",
     "text": [
      "[[53.51106246]] (1, 1)\n",
      "[[21.49919784]\n",
      " [ 6.62556477]] (2, 1)\n",
      "[[ 1.73956318]\n",
      " [21.1445801 ]\n",
      " [-1.43827099]] (3, 1)\n",
      "[[ 2.03640135e+00]\n",
      " [ 2.07295354e+01]\n",
      " [-1.32882319e+00]\n",
      " [-7.40023878e-03]] (4, 1)\n"
     ]
    },
    {
     "data": {
      "text/plain": [
       "<matplotlib.legend.Legend at 0x1a1eab5cc0>"
      ]
     },
     "execution_count": 3,
     "metadata": {},
     "output_type": "execute_result"
    },
    {
     "data": {
      "image/png": "[encoded data removed]",
      "text/plain": [
       "<Figure size 432x288 with 1 Axes>"
      ]
     },
     "metadata": {
      "needs_background": "light"
     },
     "output_type": "display_data"
    }
   ],
   "source": [
    "from numpy.linalg import inv\n",
    "\n",
    "def powers_of_X(X, degree):\n",
    "    powers = np.arange(degree + 1).reshape(-1,1)\n",
    "    return X**powers\n",
    "\n",
    "def compute_polynomial(X, Theta):\n",
    "    XP = powers_of_X(X, len(Theta) - 1) # len(Theta) x N\n",
    "    Y = Theta.T @ (XP)\n",
    "    return Y\n",
    "\n",
    "plot_x_space = np.linspace(0,10,100)\n",
    "plt.scatter(data[0], data[1])\n",
    "for degree in range(4):\n",
    "    X = powers_of_X(data[0], degree) # Matrix d x N\n",
    "    Y = data[1].reshape(1, -1)       # Matrix 1 x N\n",
    "    Theta = inv(X.dot(X.T)) @ X @ Y.T\n",
    "    plt.plot(plot_x_space, compute_polynomial(plot_x_space, Theta).ravel(), \n",
    "         label=\"degree: %d\" %(degree, ))\n",
    "    print (Theta, Theta.shape)\n",
    "plt.legend(loc='lower right')"
   ]
  },
  {
   "cell_type": "markdown",
   "metadata": {
    "colab_type": "text",
    "id": "S6U9fsbSQ5He"
   },
   "source": [
    "# Problem 8 [1p]\n",
    "\n",
    "When the data set is small and highly dimensional (or when high degree polynomials are used) the linear regression solution may fit the noise in the data instead of capturing the general rule. We call this phenomenon overfitting and will discuss it in detail in a few lectures.\n",
    "\n",
    "One way of preventing overfitting is to force the model's parameters to be small. We call this *regularization*. Consider the following cost function:\n",
    "\n",
    "$$ J(\\Theta) = \\sum_{i=1}^N (y^{(i)} - \\Theta^T x^{(i)})^2 + \\frac{\\lambda}{2} \\Theta^T \\Theta $$\n",
    "\n",
    "Analyze datasets sampled using the following procedure:\n",
    "\n",
    "1. $x \\propto U(0;1)$: $x$ is sampled uniformly from the  $0-1$ range.\n",
    "2. $y \\propto \\mathcal{N}(\\mu=1+2x-5x^2 + 4x^3, \\sigma=0.1)$: then \n",
    "    $y$ is sampled from the Normal distribution with mean \n",
    "    $\\mu=1+2x-5x^2+4x^3$ and standard deviation $0.1$\n",
    "\n",
    "Repeat 30 times an experiment in which you sample a new training\n",
    "dataset, then fit polynomials of degree 0 to 14 and use $\\lambda$\n",
    "value from the set $\\{0, 10^{-6}, 10^{-5}, 10^{-4}, 10^{-3}, 10^{-2}, 10^{-1}\\}$.\n",
    "\n",
    "Plot the mean training and testing errors. What is the effect of increasing $\\lambda$?"
   ]
  },
  {
   "cell_type": "code",
   "execution_count": 4,
   "metadata": {
    "colab": {},
    "colab_type": "code",
    "id": "cmYHwDlrQ5Hg"
   },
   "outputs": [
    {
     "data": {
      "text/plain": [
       "<matplotlib.legend.Legend at 0x1a1eacc4e0>"
      ]
     },
     "execution_count": 4,
     "metadata": {},
     "output_type": "execute_result"
    },
    {
     "data": {
      "image/png": "[encoded data removed]",
      "text/plain": [
       "<Figure size 432x288 with 1 Axes>"
      ]
     },
     "metadata": {
      "needs_background": "light"
     },
     "output_type": "display_data"
    }
   ],
   "source": [
    "def poly_fun(X, Theta):\n",
    "    \"\"\"Compute the value of polynomial with coefficients Theta for points in X\"\"\"\n",
    "    XP = powers_of_X(X, Theta.shape[0]-1)\n",
    "    return Theta.T @ XP\n",
    "\n",
    "#\n",
    "# The true polynomial relation:\n",
    "# y(x) = 1 + 2x -5x^2 + 4x^3\n",
    "#\n",
    "# TODO: write down the proper coefficients\n",
    "#\n",
    "true_poly = np.array([1., 2., -5, 4])\n",
    "\n",
    "def make_dataset(N, theta=true_poly, sigma=0.1):\n",
    "    \"\"\" Sample a dataset \"\"\"\n",
    "    X = np.random.rand(N)\n",
    "    Y = np.random.randn(N)*sigma + poly_fun(X, true_poly)\n",
    "    return X,Y\n",
    "\n",
    "\n",
    "train_data = make_dataset(30)\n",
    "XX = np.linspace(0,1,100)\n",
    "YY = poly_fun(XX, true_poly)\n",
    "plt.scatter(train_data[0], train_data[1], label='train data', color='r')\n",
    "plt.plot(XX, poly_fun(XX, true_poly), label='ground truth')\n",
    "plt.legend(loc='upper left')"
   ]
  },
  {
   "cell_type": "code",
   "execution_count": 42,
   "metadata": {
    "colab": {},
    "colab_type": "code",
    "id": "w4Iw1AaXQ5Hp"
   },
   "outputs": [],
   "source": [
    "#please note: lambda is a reserved keyword in python, thus we use _lambda\n",
    "def poly_fit(data, degree, _lambda):\n",
    "    \"Fit a polynomial of a given degree and weight decay parameter C\"\n",
    "    powers = np.arange(degree + 1.0).reshape(-1,1)\n",
    "    X = data[0].reshape(1,-1)\n",
    "    Y = data[1].reshape(1,-1)\n",
    "    XX = X**powers\n",
    "    Theta = np.linalg.solve(2*XX@XX.T + _lambda*np.identity(XX.shape[0]), 2*XX@Y.T)\n",
    "    return Theta"
   ]
  },
  {
   "cell_type": "code",
   "execution_count": 46,
   "metadata": {
    "colab": {},
    "colab_type": "code",
    "id": "7EMSo9gbQ5Ht",
    "outputId": "c7c19094-84a8-4229-e42d-3a100b0d1909"
   },
   "outputs": [
    {
     "data": {
      "image/png": "[encoded data removed]",
      "text/plain": [
       "<Figure size 720x1440 with 7 Axes>"
      ]
     },
     "metadata": {
      "needs_background": "light"
     },
     "output_type": "display_data"
    }
   ],
   "source": [
    "lambdas = [0.0, 0.000001, 0.00001, 0.0001, 0.001, 0.01, 0.1]\n",
    "degrees  = np.arange(15)\n",
    "\n",
    "num_repetitions = 30\n",
    "num_samples = 30\n",
    "\n",
    "train_errors = np.zeros((len(lambdas), len(degrees)))\n",
    "test_errors = np.zeros((len(lambdas), len(degrees)))\n",
    "\n",
    "#sample a single dataset for all experiments\n",
    "test_data = make_dataset(num_samples)\n",
    "\n",
    "for repetition in range(num_repetitions):\n",
    "    #sample a new training dataset for this repetition\n",
    "    train_data = make_dataset(num_samples)\n",
    "    #scatter(data[0], data[1])\n",
    "    for degree_i, degree in enumerate(degrees):\n",
    "        for lambda_i, _lambda in enumerate(lambdas):\n",
    "            Theta = poly_fit(train_data, degree, _lambda)\n",
    "            \n",
    "            train_mean_err = np.abs(poly_fun(train_data[0], Theta) - train_data[1]).mean()\n",
    "            test_mean_err = np.abs(poly_fun(test_data[0], Theta) - test_data[1]).mean()\n",
    "\n",
    "            train_errors[lambda_i, degree_i] += train_mean_err\n",
    "            test_errors[lambda_i, degree_i] += test_mean_err\n",
    "train_errors /=  num_repetitions\n",
    "test_errors /= num_repetitions\n",
    "\n",
    "plt.figure(figsize=(10,20))\n",
    "for lambda_i, _lambda in enumerate(lambdas):\n",
    "    plt.subplot(len(lambdas), 1, lambda_i+1)\n",
    "    plt.plot(degrees, train_errors[lambda_i,:], label='train')\n",
    "    plt.plot(degrees, test_errors[lambda_i,:],  label='test')\n",
    "#     plt.ylim(0,0.1)\n",
    "    plt.title('lambda=%g'%(_lambda,))\n",
    "    plt.grid(True)\n",
    "    plt.legend()"
   ]
  }
 ],
 "metadata": {
  "colab": {
   "include_colab_link": true,
   "name": "Assignment2.ipynb",
   "provenance": [],
   "toc_visible": true,
   "version": "0.3.2"
  },
  "kernelspec": {
   "display_name": "Python 3",
   "language": "python",
   "name": "python3"
  },
  "language_info": {
   "codemirror_mode": {
    "name": "ipython",
    "version": 3
   },
   "file_extension": ".py",
   "mimetype": "text/x-python",
   "name": "python",
   "nbconvert_exporter": "python",
   "pygments_lexer": "ipython3",
   "version": "3.7.0"
  }
 },
 "nbformat": 4,
 "nbformat_minor": 1
}
