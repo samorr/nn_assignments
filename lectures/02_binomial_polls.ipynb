{
  "nbformat": 4,
  "nbformat_minor": 0,
  "metadata": {
    "colab": {
      "name": "02_binomial_polls.ipynb",
      "version": "0.3.2",
      "provenance": [],
      "include_colab_link": true
    },
    "kernelspec": {
      "display_name": "Python 2",
      "language": "python",
      "name": "python2"
    }
  },
  "cells": [
    {
      "cell_type": "markdown",
      "metadata": {
        "id": "view-in-github",
        "colab_type": "text"
      },
      "source": [
        "[View in Colaboratory](https://colab.research.google.com/github/janchorowski/nn_assignments/blob/nn18/lectures/02_binomial_polls.ipynb)"
      ]
    },
    {
      "metadata": {
        "id": "AFSOME3-nOx9",
        "colab_type": "code",
        "colab": {
          "base_uri": "https://localhost:8080/",
          "height": 34
        },
        "outputId": "098dc2f9-6085-4fc3-e828-f54bf31baa3a"
      },
      "cell_type": "code",
      "source": [
        "%pylab inline"
      ],
      "execution_count": 1,
      "outputs": [
        {
          "output_type": "stream",
          "text": [
            "Populating the interactive namespace from numpy and matplotlib\n"
          ],
          "name": "stdout"
        }
      ]
    },
    {
      "metadata": {
        "id": "kdkCEcShnOyM",
        "colab_type": "code",
        "colab": {}
      },
      "cell_type": "code",
      "source": [
        "from __future__ import absolute_import\n",
        "from __future__ import division\n",
        "from __future__ import print_function\n",
        "\n",
        "import scipy.stats"
      ],
      "execution_count": 0,
      "outputs": []
    },
    {
      "metadata": {
        "id": "sfPy5oy0nOyT",
        "colab_type": "text"
      },
      "cell_type": "markdown",
      "source": [
        "# Introduction\n",
        "\n",
        "During the first lecture we have seen that the goal of machine learning is to train (learn/fit) a \n",
        "**model** on a **dataset** such that we will be able to answer several questions about the data using\n",
        "the model. Some useful questions are:\n",
        "1. Predict a target $y$ for a new input $x$: predict what is in an image, recognize some audio sample, tell if the stock price will go up or down...\n",
        "2. Generate new sample $x$ similar to those form the training dataset. Alternatively, given part of a generate the other part (e.g. given half of an image generate the other half).\n",
        "\n",
        "Historically, similar questions were considered by statisticians. In fact, machine learning is very similar to statistics. Some people claim that there is very little difference between the two, and a tongue-in-cheek definition of machine learning is \"statistics without checking for assumptions\", to which ML practitioners reply that they are at least able to solve problems that are too complex for a through and formal statistical analysis. \n",
        "\n",
        "Due to the similarity of the two fields we will today explore a few examples of statistical inference. Some of the resulting concepts (maximum likelihood, interpreting the outputs of a model as probabilities) will be used through the semester."
      ]
    },
    {
      "metadata": {
        "id": "rimfq0JznOyU",
        "colab_type": "text"
      },
      "cell_type": "markdown",
      "source": [
        "# Statistical Inference\n",
        "\n",
        "Consider the polling problem:\n",
        "1. There exists **a population** of individuals (e.g. voters).\n",
        "2. The individuals have a voting preference (party A or B).\n",
        "3. We want the fraction $\\phi$ of voters that prefer A.\n",
        "4. But we don't want to ask everyone (run an election)!\n",
        "\n",
        "Instead we want to conduct a poll (choose a **sample** of people \n",
        "and get their mean preference $\\bar\\phi$).\n",
        "\n",
        "Questions:\n",
        "1. How are $\\phi$ and $\\bar\\phi$ related?\n",
        "2. What is our error?\n",
        "3. How many persons do we need to ask to achieve a desired error?"
      ]
    },
    {
      "metadata": {
        "id": "9HATFBl5nOyV",
        "colab_type": "text"
      },
      "cell_type": "markdown",
      "source": [
        "# Polling\n",
        "\n",
        "Suppose there is a large population of individuals, that support either candidate A or candidate B. We want to establish the fraction of supporters of A in the population $\\phi$.\n",
        "\n",
        "We will conduct an opinion poll asking about the support for each party. We will choose randomly a certain number of people, $n$, and ask them about their candidates.\n",
        "\n",
        "We want to use the results of the poll to establish:\n",
        "1.  an estimate of the true population parameter $\\phi$\n",
        "2.  our confidence about the interval\n",
        "\n",
        "First, we define a formal model of sampling. We will assume that the population is much bigger than the small sample. Thus we will assume a *sampling with replacement* model: each person is selected independently at random from the full population. We call such a sample IID (Independent Identically Distributed).\n",
        "\n",
        "Having the sampling model we establish that the number of supporters of A in the sample follows a *binomial distribution*. \n",
        "\n",
        "For the binomial distribution with $n$ trials and probability of success $\\phi$ the expected number of successes is $n\\phi$ and the variance is $n\\phi(1-\\phi)$. \n",
        "\n",
        "Alternatively, the *fraction* of successes in the sample has the expected value $\\phi$ and variance $\\frac{\\phi(1-\\phi)}{n}$. \n",
        "\n",
        "Lets plot the PMF (Probability Mass Function) of the number of successes."
      ]
    },
    {
      "metadata": {
        "id": "xSzyj7sEnOyW",
        "colab_type": "code",
        "colab": {
          "base_uri": "https://localhost:8080/",
          "height": 34
        },
        "outputId": "bc14f355-62ef-48b0-ebe0-1eb12ce96020"
      },
      "cell_type": "code",
      "source": [
        "# Poll variability check: draw samples form the binomial distribution\n",
        "\n",
        "n = 50\n",
        "phi = 0.6\n",
        "\n",
        "sample = random.rand(n)<phi\n",
        "\n",
        "print (\"Made %d trials. Fraction of A supporters: %.2f (true fraction: %.2f)\" % \n",
        "       (n, 1.0*sample.sum()/n, phi))"
      ],
      "execution_count": 16,
      "outputs": [
        {
          "output_type": "stream",
          "text": [
            "Made 50 trials. Fraction of A supporters: 0.56 (true fraction: 0.60)\n"
          ],
          "name": "stdout"
        }
      ]
    },
    {
      "metadata": {
        "id": "06jlcRMYnOyd",
        "colab_type": "code",
        "colab": {
          "base_uri": "https://localhost:8080/",
          "height": 282
        },
        "outputId": "944f9305-632b-41a4-9ddd-5c0d43a9c56d"
      },
      "cell_type": "code",
      "source": [
        "# model parameters\n",
        "n = 1000\n",
        "phi = 0.6\n",
        "\n",
        "# the binomial distribution\n",
        "model = scipy.stats.binom(n=n, p=phi)\n",
        "x = arange(n+1)\n",
        "\n",
        "# plot the PMF - probability mass function\n",
        "stem(x, model.pmf(x), 'b', label='Binomial PMF')\n",
        "\n",
        "# plot the normal approximation\n",
        "mu = phi * n\n",
        "stdev = sqrt(phi*(1-phi) * n)\n",
        "model_norm = scipy.stats.norm(mu, stdev)\n",
        "x_cont = linspace(x[0], x[-1], 1000)\n",
        "plot(x_cont, model_norm.pdf(x_cont), 'r', label='Norm approx.')\n",
        "\n",
        "axvline(mu, *xlim(), color='g', label='Mean')\n",
        "\n",
        "legend(loc='upper left')"
      ],
      "execution_count": 21,
      "outputs": [
        {
          "output_type": "execute_result",
          "data": {
            "text/plain": [
              "<matplotlib.legend.Legend at 0x7fab1435b7d0>"
            ]
          },
          "metadata": {
            "tags": []
          },
          "execution_count": 21
        },
        {
          "output_type": "display_data",
          "data": {
            "image/png": "[encoded data removed]",
            "text/plain": [
              "<matplotlib.figure.Figure at 0x7fab14ee2390>"
            ]
          },
          "metadata": {
            "tags": []
          }
        }
      ]
    },
    {
      "metadata": {
        "id": "p2xTO4CxnOyj",
        "colab_type": "text"
      },
      "cell_type": "markdown",
      "source": [
        "In Statistics and Machine Learning we only have access to the sample. The goal is to learn something useful about the unknown population. Here we are interested in the true heads probability $\\phi$.\n",
        "\n",
        "The MLE (Maximum Likelihood Estimator) for $\\phi$ is just the sample mean $\\bar\\phi$. However, how precise it is? We want the (sample dependent) confidence interval around the sample mean, such that in 95% of experiments (samples taken), the true unknown population parameter $\\phi$ is in the confidence interval.\n",
        "\n",
        "Formally we want to find $\\bar\\phi$ and $\\epsilon$ such that $P(\\bar\\phi-\\epsilon \\leq \\phi \\leq \\bar\\phi + \\epsilon) > 0.95$ or, equivalently, such that $P(|\\phi-\\bar\\phi| \\leq \\epsilon) > 0.95$.\n",
        "\n",
        "Note: from the sampling model we know that for a large enough sample (>15 persons) the random variable denoting the sample mean $\\bar\\phi$ is approximately normally distributed with mean $\\phi$ and standard deviation $\\sigma = \\sqrt{(\\phi(1-\\phi)/n)}$. However we do not know $\\phi$. When designing the experiment, we can take the worse value, which is 0.5. Alternatively, we can plug for $\\phi$ the estimated sample mean $\\bar\\phi$. Note: we are being too optimistic here, but the error will be small.\n",
        "\n",
        "For a standard normal random variable (mean 0 and standard deviation 1) 96% of samples fall within the range $\\pm 1.96$. \n",
        "\n",
        "Therefore the confidence interval is approximately $\\bar\\phi \\pm 1.96\\sqrt{\\frac{\\bar\\phi(1-\\bar\\phi)}{n}}$.\n"
      ]
    },
    {
      "metadata": {
        "id": "j0sweWStnOyl",
        "colab_type": "code",
        "colab": {
          "base_uri": "https://localhost:8080/",
          "height": 335
        },
        "outputId": "d8e4b286-ebe9-4658-9125-1257dd53e02d"
      },
      "cell_type": "code",
      "source": [
        "phi=0.6\n",
        "n=1000\n",
        "n_experiments=10000\n",
        "\n",
        "samples = rand(n_experiments, n)<phi\n",
        "phi_bar = samples.mean(1)\n",
        "\n",
        "hist(phi_bar)\n",
        "axvline([phi], color='r')\n",
        "title('Histgram of sample means $\\\\bar\\\\phi$ form %d experiments.\\n'\n",
        "      'Model: %d trials, %.2f prob of success'%(n_experiments,n,phi))\n",
        "\n",
        "confidence_intervals = zeros((n_experiments, 2))\n",
        "confidence_intervals[:,0] = phi_bar - 1.96*np.sqrt(phi_bar*(1-phi_bar)/n)\n",
        "confidence_intervals[:,1] = phi_bar + 1.96*np.sqrt(phi_bar*(1-phi_bar)/n)\n",
        "\n",
        "#note: this also works, can you exmplain how the formula works in numpy?\n",
        "confidence_intervals2 = phi_bar[:,None] + [-1.96, 1.96] * np.sqrt(phi_bar*(1-phi_bar)/n).reshape(-1,1)\n",
        "assert np.abs(confidence_intervals-confidence_intervals2).max()==0\n",
        "\n",
        "good_experiments = (confidence_intervals[:,0]<phi) & (confidence_intervals[:,1]>phi)\n",
        "\n",
        "print (\"Average confidence interval is phi_bar +-%f\" \n",
        "       % ((confidence_intervals[:,1]-confidence_intervals[:,0]).mean()/2.0,))\n",
        "\n",
        "print (\"Out of %d experiments, the true phi fell into the confidence interval %d times.\"\n",
        "       % (n_experiments, good_experiments.sum()))"
      ],
      "execution_count": 22,
      "outputs": [
        {
          "output_type": "stream",
          "text": [
            "Average confidence interval is phi_bar +-0.030352\n",
            "Out of 10000 experiments, the true phi fell into the confidence interval 9470 times.\n"
          ],
          "name": "stdout"
        },
        {
          "output_type": "display_data",
          "data": {
            "image/png": "[encoded data removed]",
            "text/plain": [
              "<matplotlib.figure.Figure at 0x7fab27440890>"
            ]
          },
          "metadata": {
            "tags": []
          }
        }
      ]
    },
    {
      "metadata": {
        "id": "V8jrPKUmnOyr",
        "colab_type": "text"
      },
      "cell_type": "markdown",
      "source": [
        "Practical outcome: in the worst case ($\\phi=0.5$) the 95% confidence interval is $\\pm 1.96\\sqrt{\\frac{0.5(1-0.5)}{n}} = \\pm \\frac{0.975}{\\sqrt{n}}$. To get the usually acceptable polling error of 3 percentage points, one needs to sample 1056 persons. Polling companies typically ask between 1000-3000 persons."
      ]
    },
    {
      "metadata": {
        "id": "vvv3EZBfnOys",
        "colab_type": "text"
      },
      "cell_type": "markdown",
      "source": [
        "Questions:\n",
        "1. How critical is the IID sampling assumption?\n",
        "2. What do you think is a larger problem: approximating the PDF with a Gaussian distribution, or people lying in the questionnaire?"
      ]
    },
    {
      "metadata": {
        "collapsed": true,
        "id": "0ISDMIYznOyu",
        "colab_type": "text"
      },
      "cell_type": "markdown",
      "source": [
        "# Bayesian reasoning\n",
        "\n",
        "We will treat $\\phi$ - the unknown fraction of A supporters in the population as a random variable. Its probability distribution will express *our subjective* uncertainty about its value.\n",
        "\n",
        "We will need to start with a *prior* assumption about our belief of $\\phi$. For convenience we will choose a *conjugate prior*, the Beta distribution, because the formula for its PDF is similar to the formula for the likelihood."
      ]
    },
    {
      "metadata": {
        "id": "kYPNSAgGnOyw",
        "colab_type": "code",
        "colab": {
          "base_uri": "https://localhost:8080/",
          "height": 297
        },
        "outputId": "486631ed-f1ed-4967-d0e3-79aa32efd16d"
      },
      "cell_type": "code",
      "source": [
        "support = linspace(0,1,512)\n",
        "\n",
        "A=1\n",
        "B=1\n",
        "\n",
        "plot(support, scipy.stats.beta.pdf(support, A,B))\n",
        "title(\"Prior: Beta(%.1f, %.1f) distribution\" %(A,B))"
      ],
      "execution_count": 27,
      "outputs": [
        {
          "output_type": "execute_result",
          "data": {
            "text/plain": [
              "Text(0.5,1,u'Prior: Beta(1.0, 1.0) distribution')"
            ]
          },
          "metadata": {
            "tags": []
          },
          "execution_count": 27
        },
        {
          "output_type": "display_data",
          "data": {
            "image/png": "[encoded data removed]",
            "text/plain": [
              "<matplotlib.figure.Figure at 0x7fc4b8eb37d0>"
            ]
          },
          "metadata": {
            "tags": []
          }
        }
      ]
    },
    {
      "metadata": {
        "id": "_U-CfKE7nOy3",
        "colab_type": "text"
      },
      "cell_type": "markdown",
      "source": [
        "Then we will collect samples, and after each sample update our belief about $p$."
      ]
    },
    {
      "metadata": {
        "id": "z2MbXyxPnOy4",
        "colab_type": "code",
        "colab": {}
      },
      "cell_type": "code",
      "source": [
        "n_successes = 0\n",
        "n_failures = 0\n",
        "phi = 0.6"
      ],
      "execution_count": 0,
      "outputs": []
    },
    {
      "metadata": {
        "id": "LBaHphhMnOy8",
        "colab_type": "code",
        "colab": {
          "base_uri": "https://localhost:8080/",
          "height": 339
        },
        "outputId": "3a62ef3b-e7fb-47c3-d94e-31a6ad8b40c2"
      },
      "cell_type": "code",
      "source": [
        "for _ in xrange(100):\n",
        "    if rand() < phi:\n",
        "        n_successes += 1\n",
        "    else:\n",
        "        n_failures +=1\n",
        "\n",
        "plot(support, scipy.stats.beta.pdf(support, A+n_successes, B+n_failures), label='posterior')\n",
        "axvline(phi, color='r', label='True p')\n",
        "conf_int_low, conf_int_high = scipy.stats.beta.ppf((0.025,0.975), A+n_successes, B+n_failures)\n",
        "axvspan(conf_int_low, conf_int_high, alpha=0.2, label='95% conf int')\n",
        "title(\"Posterior after seeing %d successes and %d failures\\n\"\n",
        "      \"Prior pseudo-counts: A=%.1f, B=%.1f\\n\"\n",
        "      \"MAP estimate: %f, MLE estimate: %f\\n\"\n",
        "      \"conf_int: (%f, %f)\"% (n_successes, n_failures, A, B, \n",
        "                             1.0*(A+n_successes-1)/(A+n_successes+B+n_failures-2),\n",
        "                             1.0*n_successes/(n_successes+n_failures),\n",
        "                             conf_int_low, conf_int_high))\n",
        "legend()"
      ],
      "execution_count": 47,
      "outputs": [
        {
          "output_type": "execute_result",
          "data": {
            "text/plain": [
              "<matplotlib.legend.Legend at 0x7fc4b8385750>"
            ]
          },
          "metadata": {
            "tags": []
          },
          "execution_count": 47
        },
        {
          "output_type": "display_data",
          "data": {
            "image/png": "[encoded data removed]",
            "text/plain": [
              "<matplotlib.figure.Figure at 0x7fc4b89fd590>"
            ]
          },
          "metadata": {
            "tags": []
          }
        }
      ]
    },
    {
      "metadata": {
        "id": "_OSBnPk_nOzC",
        "colab_type": "text"
      },
      "cell_type": "markdown",
      "source": [
        "Please note: in the Bayesian framework we treat the quantities we want to estimate as random variables. \n",
        "\n",
        "We need to define our prior beliefs about them. In the example, the prior was a Beta distribution.\n",
        "\n",
        "After seeing the data we update our belief about the world. In the example, this is vary easy - we keep running counts of the number of failures and successes observed. We update them seeing the data. The prior conveniently can be treated as *pseudo-counts*. \n",
        "\n",
        "To summarize the distribution over the parameter, we typically take its mode (the most likely value), calling the approach MAP (Maximum a Posteriori)."
      ]
    },
    {
      "metadata": {
        "id": "xvDuX8GznOzE",
        "colab_type": "code",
        "colab": {}
      },
      "cell_type": "code",
      "source": [
        ""
      ],
      "execution_count": 0,
      "outputs": []
    }
  ]
}